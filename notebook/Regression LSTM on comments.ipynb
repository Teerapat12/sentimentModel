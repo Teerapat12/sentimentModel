{
 "cells": [
  {
   "cell_type": "code",
   "execution_count": 40,
   "metadata": {
    "collapsed": true
   },
   "outputs": [],
   "source": [
    "import pandas as pd\n",
    "import numpy as np\n",
    "from sklearn.model_selection import train_test_split\n",
    "from sklearn.metrics import accuracy_score\n",
    "from sklearn.metrics import confusion_matrix\n",
    "from sklearn.model_selection import train_test_split\n",
    "from termcolor import colored"
   ]
  },
  {
   "cell_type": "code",
   "execution_count": 2,
   "metadata": {},
   "outputs": [
    {
     "name": "stderr",
     "output_type": "stream",
     "text": [
      "Using TensorFlow backend.\n"
     ]
    }
   ],
   "source": [
    "from gensim import models\n",
    "model = models.Word2Vec.load('../model/fbcomment.w2v')"
   ]
  },
  {
   "cell_type": "code",
   "execution_count": 3,
   "metadata": {
    "collapsed": true
   },
   "outputs": [],
   "source": [
    "df = pd.read_csv(\"fb_comment_token_annotated.tsv\",encoding='utf-8',sep='\\t')\n",
    "df['token_arr'] = df['token'].apply(lambda x:eval(x))"
   ]
  },
  {
   "cell_type": "code",
   "execution_count": 4,
   "metadata": {},
   "outputs": [
    {
     "name": "stderr",
     "output_type": "stream",
     "text": [
      "/home/users/u5722780406/miniconda3/envs/tf/lib/python3.5/site-packages/ipykernel_launcher.py:2: SettingWithCopyWarning: \n",
      "A value is trying to be set on a copy of a slice from a DataFrame.\n",
      "Try using .loc[row_indexer,col_indexer] = value instead\n",
      "\n",
      "See the caveats in the documentation: http://pandas.pydata.org/pandas-docs/stable/indexing.html#indexing-view-versus-copy\n",
      "  \n"
     ]
    }
   ],
   "source": [
    "scored = df[df['judgeScore']!=-32]\n",
    "scored['wordNum']= scored['token_arr'].apply(lambda x: len(x))\n"
   ]
  },
  {
   "cell_type": "code",
   "execution_count": 5,
   "metadata": {},
   "outputs": [
    {
     "data": {
      "text/plain": [
       "(6244,)"
      ]
     },
     "execution_count": 5,
     "metadata": {},
     "output_type": "execute_result"
    }
   ],
   "source": [
    "scored[scored['wordNum']<75]['message'].shape"
   ]
  },
  {
   "cell_type": "code",
   "execution_count": 6,
   "metadata": {
    "collapsed": true
   },
   "outputs": [],
   "source": [
    "#Let's use 15 as max_seq_len\n",
    "max_seq_len = 75\n",
    "k = 800\n",
    "lessThanMaxSeqLen = scored['wordNum']<=max_seq_len\n",
    "scoreddf = scored[lessThanMaxSeqLen]\n",
    "X = scoreddf['token_arr'].values\n",
    "y = (scored['judgeScore'][lessThanMaxSeqLen]+2)/4"
   ]
  },
  {
   "cell_type": "code",
   "execution_count": 7,
   "metadata": {},
   "outputs": [
    {
     "name": "stdout",
     "output_type": "stream",
     "text": [
      "Train set Row: 5004\n",
      "Test set Row: 626\n",
      "Validate set Row: 626\n"
     ]
    }
   ],
   "source": [
    "X_train,X_test , y_train,y_test = train_test_split(X,y.values,test_size=0.2,random_state=42)\n",
    "X_test,X_valid , y_test,y_valid = train_test_split(X_test,y_test,test_size=0.5,random_state=42)\n",
    "print(\"Train set Row: %d\"%(X_train.shape[0]))\n",
    "print(\"Test set Row: %d\"%(X_test.shape[0]))\n",
    "print(\"Validate set Row: %d\"%(X_valid.shape[0]))"
   ]
  },
  {
   "cell_type": "code",
   "execution_count": 8,
   "metadata": {},
   "outputs": [
    {
     "data": {
      "text/plain": [
       "0.250    2758\n",
       "0.750    1466\n",
       "0.500    1181\n",
       "0.000     335\n",
       "1.000     259\n",
       "0.125     171\n",
       "0.875      86\n",
       "Name: judgeScore, dtype: int64"
      ]
     },
     "execution_count": 8,
     "metadata": {},
     "output_type": "execute_result"
    }
   ],
   "source": [
    "y.value_counts()"
   ]
  },
  {
   "cell_type": "code",
   "execution_count": 9,
   "metadata": {},
   "outputs": [
    {
     "name": "stdout",
     "output_type": "stream",
     "text": [
      "PAD PAD PAD PAD PAD PAD PAD PAD PAD PAD PAD PAD PAD PAD PAD PAD PAD PAD PAD PAD PAD PAD PAD PAD PAD PAD PAD PAD PAD PAD PAD PAD PAD PAD PAD PAD PAD PAD PAD PAD PAD PAD PAD PAD PAD PAD PAD PAD PAD PAD PAD PAD PAD PAD PAD PAD PAD PAD PAD PAD PAD PAD PAD PAD เว่อ ! ! ! !   โทร ยัง จะ ไม่ มี 0.25\n",
      "PAD PAD PAD PAD PAD PAD PAD PAD PAD PAD PAD PAD PAD PAD PAD PAD PAD PAD PAD PAD PAD PAD PAD PAD PAD PAD PAD PAD PAD PAD PAD PAD PAD PAD PAD PAD PAD PAD PAD PAD PAD PAD PAD ราย เดือน เน็ต หมด   มี ซื้อ เพิ่ม   ซัก   3   G   ราคา ไม่ ถึง   100   มี ไหม ครับ   ถ้า ไม่ มี จะ ย้าย ค่าย ละ 0.25\n",
      "PAD PAD จัดการ ให้ ด่วน เลย คับ   ติดตั้ง เน็ต บ้าน ทรู แล่ว   ใน โปรมี โทรศัพบ้านฟรี  UNK ซิมเน็ต มือถือ ฟรี   ค่า ติดตั้ง อะไร ก็ ฟรี หมด   แต่ สิ่ง ที่ ได้ มา คือ   ตัว ปล่อย สัญญาณ ไวไฟ   และ ก็ กล่อง ทีวี   ติดตั้ง ฟรี   แค่ นี้ หรอ คับ   ไหน ล่ะ คับ   โทรศัพบ้าน UNK   ไหน ล่ะ คับ ซิมเน็ต   ไม่ เห็น เลย คับ   รบกวน ตรวจเชค UNK ด่วน เลย น่ะ คับ 0.25\n",
      "PAD PAD PAD PAD PAD PAD PAD PAD PAD PAD PAD PAD PAD PAD PAD PAD PAD PAD PAD PAD PAD PAD PAD PAD PAD PAD PAD PAD PAD PAD PAD PAD PAD PAD PAD PAD PAD PAD PAD PAD PAD PAD PAD PAD PAD PAD PAD PAD PAD PAD PAD PAD PAD PAD PAD PAD PAD PAD PAD PAD PAD PAD PAD PAD PAD PAD PAD PAD PAD อยาก เป็น ลูกค้า เซเรเนค UNK   ครับ 0.5\n",
      "PAD PAD PAD PAD PAD PAD PAD PAD PAD PAD PAD PAD PAD PAD PAD PAD PAD PAD PAD PAD PAD PAD PAD PAD PAD PAD อยาก ใช้ นะ ครับ สเปคดี UNK มาก แต่ กลัว ซ้ำ รอย กะtrue UNK   tab 7 . 0     แบต บวม   ช่อง ชาจ เสีย   ปุ่ม ล๊อค เสีย เข้า 0   2 - 3 รอบ   ตอน นี้ แบต เสื่อม ละจ้า UNK   ยัง ไม่ รวม ช่อง ใส่ เมมหัก UNK อีก 0.25\n",
      "PAD PAD PAD PAD PAD PAD PAD PAD PAD PAD PAD PAD PAD PAD PAD PAD PAD PAD PAD PAD PAD PAD PAD PAD PAD PAD PAD PAD PAD PAD PAD PAD PAD PAD PAD PAD PAD PAD PAD PAD PAD PAD PAD PAD PAD PAD PAD PAD PAD PAD PAD PAD PAD PAD PAD PAD PAD PAD PAD PAD PAD PAD PAD PAD PAD PAD PAD ลื่น กับ ผี แหละ   ดู สัญญาน ก่อน 0.25\n",
      "PAD PAD PAD PAD PAD PAD PAD PAD PAD PAD PAD PAD PAD PAD PAD PAD PAD PAD PAD PAD PAD PAD PAD PAD PAD PAD PAD PAD PAD PAD PAD PAD PAD PAD PAD PAD PAD PAD PAD PAD PAD PAD PAD PAD PAD เน็ท ไม่ สะดุด เลย ครับ   ไม่ โหลด ด้วย   สงสัย เครือข่าย วิ่ง   5 G   เครื่อง ผม รับ แค่   4 G   เลย ไม่ ค่อย ไหล ลื่น 0.25\n",
      "PAD PAD PAD PAD PAD PAD PAD PAD PAD PAD PAD PAD PAD PAD PAD PAD PAD PAD PAD PAD PAD PAD PAD PAD PAD PAD PAD PAD PAD PAD PAD PAD PAD PAD PAD PAD PAD PAD PAD PAD PAD PAD PAD PAD PAD ไป ถาม มา   ของ ไอโฟน   7   แลก เครื่อง ใหม่ ได้   แต่ เค้า จะ เช็ค เครื่อง   ถ้า ไม่ เปน ตาม เงื่อนไข ก็ แลก ไม่ ได้ คะ 0.5\n",
      "PAD PAD PAD PAD PAD PAD PAD PAD 1 สัปดาห์ กูโทร UNK   1185 .   ให้ มา ซ่อม 3 รอบ   เมื่อ วาน แม่ง ก็ พัง อีก มัน บอกเย็น UNK นี้ จะ มา ซ่อม ให้ อีก   กากกมากมึง UNK จะ ซ่อม อะไร ถอด ไป เลย ดี กว่า   ไม่ เชื่อ พวก มึง เช็ค ดู ตาม เบอร์ โทรก UNK รู นี้   085 - 485 UNK - 2199 UNK .   ว่า จริง ไหม เสีย อารมณ์ บอก ตรง กาก กก มากกก 0.0\n",
      "PAD PAD PAD PAD PAD PAD PAD PAD PAD PAD PAD PAD PAD PAD PAD PAD PAD PAD PAD PAD PAD PAD PAD PAD PAD PAD PAD PAD PAD PAD PAD PAD PAD PAD PAD PAD PAD PAD PAD PAD เนตกาก   เบา ๆ โฆษณา แล้ว พัฒนา เครื่อข่าย เหอะ   น่า เกลียด ไป   โม้ ชวน เชื่อ สวน ทาง กับ คุณภาพ   หรือ ทั้ง องค์กร ฝ่าย การ ตลาด ทำ งาน อยุ่ แผนก เดียว   สลัด 0.125\n",
      "PAD PAD PAD PAD PAD PAD PAD PAD PAD PAD PAD PAD PAD PAD PAD PAD PAD PAD PAD PAD PAD PAD PAD PAD PAD PAD PAD PAD PAD PAD PAD PAD PAD PAD PAD PAD PAD PAD PAD PAD PAD PAD PAD PAD PAD PAD PAD PAD PAD PAD PAD PAD PAD PAD PAD PAD PAD PAD PAD PAD PAD PAD PAD PAD ซื้อ ได้ ที่ ไหน คับ .. มี เงี่อนไข UNK รึ เปล่า ? 0.5\n",
      "PAD PAD PAD PAD PAD PAD PAD PAD PAD PAD PAD PAD PAD PAD PAD PAD PAD PAD PAD PAD PAD PAD PAD PAD PAD PAD PAD PAD PAD PAD PAD PAD PAD PAD PAD PAD PAD PAD PAD PAD PAD PAD PAD PAD PAD PAD PAD PAD PAD PAD PAD PAD PAD PAD PAD PAD PAD PAD PAD PAD PAD PAD PAD PAD PAD PAD PAD PAD PAD PAD ดี ครับ กำลัง ใช้ อยู่ 1.0\n",
      "PAD PAD PAD PAD PAD PAD PAD PAD PAD PAD PAD PAD PAD PAD PAD PAD PAD PAD PAD PAD PAD PAD PAD PAD PAD PAD PAD PAD PAD PAD PAD PAD PAD PAD PAD PAD PAD PAD PAD PAD PAD PAD PAD PAD PAD PAD PAD PAD PAD PAD PAD PAD PAD PAD PAD PAD PAD PAD PAD PAD PAD PAD PAD PAD PAD PAD PAD PAD PAD PAD ห่วย จริง  ๆ ๆ\n",
      "\n",
      " . 0.25\n",
      "PAD PAD PAD PAD PAD PAD PAD PAD PAD PAD PAD PAD PAD PAD PAD PAD PAD PAD PAD PAD PAD PAD PAD PAD PAD PAD PAD PAD PAD PAD PAD PAD PAD PAD PAD PAD PAD PAD PAD PAD PAD PAD กูฮ่า UNK คน แอดมินดี แทค   กล้อง 20 ล้าน     12 + 12   มัน ไม่ ได้ แปล ว่า กล้อง จะ 24 ล้าน พิกเซลนะ UNK   ฮาชิบหาย UNK   หา ข้อมูล ดี ๆ ก่อน นะ 0.25\n",
      "PAD PAD PAD PAD PAD PAD PAD PAD PAD PAD PAD PAD PAD PAD PAD PAD PAD PAD PAD PAD PAD PAD PAD PAD PAD PAD PAD PAD PAD PAD PAD PAD PAD PAD PAD PAD PAD PAD PAD PAD PAD PAD PAD PAD PAD PAD PAD PAD PAD PAD PAD PAD PAD PAD PAD PAD PAD PAD PAD PAD PAD PAD PAD ทั้ง ครอบครัว ใช้ แต่   เอ   ไอ   เอสค่ะ UNK ขอ บอก 1.0\n",
      "PAD PAD PAD PAD PAD PAD PAD PAD PAD PAD PAD PAD PAD PAD PAD PAD PAD PAD PAD PAD PAD PAD PAD PAD PAD PAD PAD PAD PAD PAD PAD PAD PAD PAD PAD PAD PAD PAD PAD PAD PAD PAD PAD PAD PAD PAD PAD PAD PAD PAD PAD PAD PAD PAD PAD ตอน นี้ ดี แทค ยัง มี ย้าย ค่าย ใช้ ราย เดือน รับ เครื่อง ฟรียุ ปะคะ แบบ ไม่ เสีย อะไร เรย 0.75\n",
      "PAD PAD PAD PAD PAD PAD PAD PAD PAD PAD รอ หมด .   สัญญา แปบ น่ะ คับ .     คง จะ ย้าย ค่าย   1   ล้าน   % .     คับ .   3 G .     หรือ อะไร\n",
      " หมุน อลัง .     วิดีโอ สด .   ไใม่ UNK ได้ เลย คับ\n",
      " ....   เพื่อน ผม ใช่ เน็ต   อาทิ ต่ะ   100 .   มัน .   เร็ว มาก 0.25\n",
      "PAD PAD PAD PAD PAD PAD PAD PAD PAD PAD PAD PAD PAD PAD PAD PAD PAD PAD PAD PAD PAD PAD PAD PAD PAD PAD PAD PAD PAD PAD PAD PAD PAD PAD PAD PAD PAD PAD PAD PAD PAD PAD PAD PAD PAD PAD PAD PAD PAD PAD PAD PAD PAD PAD PAD PAD PAD อยาก แลก แบบ นี้   พนักงาน ติดต่อ   มา บ้าง ได้ มั้ย   เพราะ   อยาก ได้ ค่ะ 0.75\n",
      "PAD PAD PAD PAD PAD PAD PAD PAD PAD PAD PAD PAD PAD PAD PAD PAD PAD PAD PAD PAD PAD PAD PAD PAD PAD PAD PAD PAD PAD PAD PAD PAD PAD PAD PAD PAD PAD PAD PAD PAD PAD PAD PAD PAD PAD PAD PAD PAD PAD PAD PAD PAD PAD PAD PAD PAD PAD PAD PAD PAD PAD PAD PAD PAD PAD PAD PAD PAD PAD PAD PAD สนใจ คับ ที่ ไหน 0.75\n",
      "PAD PAD PAD PAD PAD PAD PAD PAD PAD PAD PAD PAD PAD PAD PAD PAD PAD PAD PAD PAD PAD PAD PAD PAD PAD PAD PAD PAD PAD PAD PAD PAD PAD PAD PAD PAD PAD PAD PAD PAD PAD PAD PAD PAD PAD PAD PAD PAD PAD PAD PAD PAD ปิดเบอร์ ทำไม ต้อง ให้ ไป สาขา ใหญ่   ค่าย อื่น เขา แค่ โทร ไป ก็ ปิด ได้ ละ ทำ เรื่อง ให้ มัน ยุ่งยาก 0.25\n",
      "PAD PAD PAD PAD PAD PAD PAD PAD PAD PAD PAD PAD PAD PAD PAD PAD PAD PAD PAD PAD PAD PAD PAD PAD PAD PAD PAD PAD PAD PAD PAD PAD PAD PAD PAD PAD PAD PAD PAD PAD PAD PAD PAD PAD PAD PAD PAD PAD PAD PAD ร้อง เพราะ สัญญาณ คุณ นั่น แหละ ครับ   หลุด ที ครึ่ง ค่อน วัน   ตั้งแต่ ใช้ มือถือ มา เพิ่ง เคย พบ เคย เจอ นี่ แหละ 0.25\n",
      "PAD PAD PAD PAD PAD PAD PAD PAD PAD PAD PAD PAD PAD PAD PAD PAD PAD PAD PAD PAD PAD PAD PAD PAD PAD PAD PAD PAD PAD PAD PAD PAD PAD PAD PAD PAD PAD PAD PAD PAD PAD PAD PAD PAD PAD PAD PAD PAD PAD PAD PAD PAD PAD PAD PAD PAD PAD PAD PAD PAD PAD PAD PAD PAD Samsung   S 7   eage UNK   ราคา เท่า ไร ครับ 0.75\n",
      "PAD PAD PAD PAD PAD PAD PAD PAD PAD PAD PAD PAD PAD PAD PAD PAD PAD PAD PAD PAD PAD PAD PAD PAD PAD PAD PAD PAD PAD PAD PAD PAD PAD PAD PAD PAD PAD PAD PAD PAD PAD PAD PAD PAD PAD PAD PAD PAD PAD PAD PAD PAD PAD PAD PAD PAD PAD PAD PAD PAD PAD PAD PAD PAD PAD PAD ไม่ ได้ เลย .. เปง ลุกค้า นาน มาก กก 0.75\n",
      "PAD PAD PAD PAD PAD PAD PAD PAD PAD PAD PAD PAD PAD PAD PAD PAD PAD PAD PAD PAD PAD PAD PAD PAD PAD PAD PAD PAD PAD PAD PAD PAD PAD สัญาน ห่วย แตก   ไม่ เหมือน คุณ โฆษณา เลย   โครตเอาเปรียบ ลูกค้า เลย ครับ ลง รถ ไฟฟ้า ใต้ ดิน ยัง ไม่ มี สัญญา เลย หรือ มี ก็ น้อย มาก ครับ ขนาด กรุงเทพนะ UNK นี้ ที่ อื่น ๆ ๆ ไม่ ต้อง พูด เลย ครับ 0.25\n",
      "PAD PAD PAD PAD PAD PAD PAD PAD PAD PAD PAD PAD PAD PAD PAD PAD PAD PAD PAD PAD PAD PAD PAD PAD PAD PAD PAD PAD PAD PAD PAD PAD PAD PAD PAD PAD PAD PAD PAD PAD PAD PAD PAD PAD PAD ถาม หน่อย ครับ   true   id   ถ้า เชื้อม UNK ต่อ สัญญา น wifi   ต้อง ทำงัย ครับ   ต้อง เป็น   wifi   ของ true   กรือ เปล่าว ครับ 0.5\n",
      "PAD PAD PAD PAD PAD PAD PAD PAD PAD PAD PAD PAD PAD PAD PAD PAD PAD PAD PAD PAD PAD PAD PAD PAD PAD PAD PAD PAD PAD PAD PAD PAD PAD PAD PAD PAD PAD PAD PAD PAD PAD PAD PAD PAD PAD PAD PAD PAD PAD PAD PAD PAD PAD PAD PAD PAD PAD PAD PAD PAD PAD PAD PAD PAD PAD PAD PAD PAD PAD PAD PAD PAD PAD สนใจ ค่ะ 0.75\n",
      "PAD PAD PAD PAD PAD PAD PAD PAD PAD PAD PAD PAD PAD PAD PAD PAD PAD PAD PAD PAD PAD PAD PAD PAD PAD PAD PAD PAD PAD น่า จะ ทำ โปรเล่น   Youtube   24 ชั่วโมง   ขึ้น มา ขาย บ้าง นะ ครับ   คือ ติด   Youtube   มาก เรย ครัฟ.. UNK  \n",
      " หงุดหงิด มาก ที่สุด ใน โลก   เวลา เน็ต ลด ความ เร็ว ลง  \n",
      " # เมื่อ ไหร่ จะ ถึง ยุค 4Gเสถียร UNK 0.25\n",
      "PAD PAD PAD PAD PAD PAD PAD PAD PAD เรียน   ผู้ บริหาร   ดีแทค     คุณ จะ โกง ผม หรา   ทั้งๆ ที่ ผม   ไม่ เคย ใช้ บริการ   3 ครั้ง   ราคา 38 บาท  \n",
      " คุณ ทำ แบบ นี้   กับ ลูกค้า ของ คุณ กี่   คน แล้ว   แล้ว ถ้า ทำ ทุก ๆ เดือน เป็น เงิน เท่า ไหร่   ขี้ โกง   เว็ป พัน ทิพย์   จะ ต้อง รู้ เรื่อง นี้ 0.25\n",
      "PAD PAD PAD PAD PAD PAD PAD PAD PAD PAD PAD PAD PAD PAD PAD PAD PAD PAD PAD PAD PAD PAD PAD PAD PAD PAD PAD PAD PAD PAD PAD PAD PAD PAD PAD กาก ได้ใจ เลย คับ ais บ้าน กูเลิก ใช้ หมด ละ ..เน็ต ใน ตำนาน .... ควย ไป เลย ... บ้าน ห่าง จาก เสา สัญญาญ ประมาน   500   เมตร   แต่ กาก เหมือน อยู่ กัน คน ประเทศ ... ควย อีก ที 0.25\n",
      "PAD PAD PAD PAD PAD PAD PAD PAD PAD PAD PAD PAD PAD PAD PAD PAD PAD PAD PAD PAD PAD PAD PAD PAD PAD PAD PAD PAD PAD PAD PAD PAD PAD PAD PAD PAD PAD PAD PAD PAD PAD PAD PAD PAD PAD PAD PAD PAD PAD PAD PAD PAD PAD PAD PAD PAD PAD Asus   Zenfone   dtac   Edition UNK   5 . 5   Version2 UNK   ราคา เท่า ไร ค่ะ 0.75\n",
      "PAD PAD PAD PAD PAD PAD PAD PAD PAD PAD PAD PAD PAD PAD PAD PAD PAD PAD PAD PAD PAD PAD PAD PAD PAD PAD PAD PAD PAD PAD PAD PAD PAD PAD PAD PAD PAD PAD PAD PAD เคย สมัคร   I   smart   299   แต่ ตอน นี้ ระบบ บอก ไม่ สามารถ สมัคร ได้   มี แพคเกจ ไหน แนะนำ บาง   โทร ด้วย เล่น เน็ต ด้วย   เอา ราคา ประมาณ นี้ 0.75\n",
      "PAD PAD PAD PAD PAD PAD PAD PAD PAD PAD PAD PAD PAD PAD PAD PAD PAD PAD PAD PAD PAD PAD PAD PAD PAD PAD PAD PAD PAD PAD PAD PAD PAD PAD PAD PAD PAD PAD PAD PAD PAD PAD PAD PAD PAD PAD PAD PAD PAD PAD PAD PAD PAD PAD PAD PAD PAD PAD PAD PAD PAD PAD PAD PAD PAD PAD PAD พัฒนา ให้ ทั่ว กทม . หรือ ยัง ครับ 0.0\n",
      "31\n"
     ]
    }
   ],
   "source": [
    "mapping = [-1,0,1]\n",
    "def generate_batch(i,batch_size=32,verbose=False,X=X_train,y=y_train):\n",
    "    comments = X[i:i+batch_size] \n",
    "    avaiRow = comments.shape[0]\n",
    "    batch_X = np.zeros([batch_size,max_seq_len,k+2])\n",
    "    batch_Y = y[i:i+batch_size]\n",
    "    for i,comment in enumerate(comments):\n",
    "        for j in range(max_seq_len):\n",
    "            if(max_seq_len-j>len(comment)): # Should not be word yet\n",
    "                if(verbose):print(\"PAD\",end=' ')\n",
    "                batch_X[i][j][-1] = 1\n",
    "            else: \n",
    "                if(verbose):print(comment[j-(max_seq_len-len(comment))],end=' ')\n",
    "                try:\n",
    "                    batch_X[i][j] = np.concatenate((model[comment[j-(max_seq_len-len(comment))]],np.zeros([2])))\n",
    "                except Exception:\n",
    "                    if(verbose):print(\"UNK\",end=' ')\n",
    "                    batch_X[i][j] = np.concatenate((np.zeros([k+1]),[1]))\n",
    "        if(verbose):print(batch_Y[i])\n",
    "    if(verbose):print(i)\n",
    "    batch_Y = np.array([np.array([i]) for i in batch_Y])\n",
    "    return (batch_X[:avaiRow],batch_Y[:avaiRow])\n",
    "\n",
    "import random\n",
    "(batch_X,batch_Y) = generate_batch(random.randint(0,X_train.shape[0]),verbose=True)"
   ]
  },
  {
   "cell_type": "code",
   "execution_count": 10,
   "metadata": {},
   "outputs": [
    {
     "name": "stdout",
     "output_type": "stream",
     "text": [
      "(626, 75, 802)\n",
      "(626, 1)\n"
     ]
    }
   ],
   "source": [
    "#Prepare test and validate set\n",
    "(test_X,test_Y) = generate_batch(0,10000,X=X_test,y=y_test)\n",
    "(valid_X,valid_Y) = generate_batch(0,10000,X=X_valid,y=y_valid)\n",
    "print(test_X.shape)\n",
    "print(test_Y.shape)"
   ]
  },
  {
   "cell_type": "markdown",
   "metadata": {},
   "source": [
    "## Create a model"
   ]
  },
  {
   "cell_type": "code",
   "execution_count": 11,
   "metadata": {
    "collapsed": true
   },
   "outputs": [],
   "source": [
    "import tensorflow as tf\n",
    "#Define two variables which will hols the input data and the target data.\n",
    "data = tf.placeholder(tf.float32, [None, max_seq_len,k+2])\n",
    "target = tf.placeholder(tf.float32, [None, 1])"
   ]
  },
  {
   "cell_type": "code",
   "execution_count": 12,
   "metadata": {
    "collapsed": true
   },
   "outputs": [],
   "source": [
    "#Create RNN cell\n",
    "from tensorflow.python.ops import rnn, rnn_cell\n",
    "num_hidden = 200\n",
    "num_layers = 3\n",
    "cells = []\n",
    "for i in range(num_layers):\n",
    "    cell = rnn_cell.BasicLSTMCell(num_hidden,state_is_tuple=True)\n",
    "    cell2 = tf.nn.rnn_cell.DropoutWrapper(cell, output_keep_prob=0.5)\n",
    "    cells.append(cell2)\n",
    "cell = rnn_cell.MultiRNNCell(cells , state_is_tuple=True)"
   ]
  },
  {
   "cell_type": "code",
   "execution_count": 13,
   "metadata": {},
   "outputs": [],
   "source": [
    "val, state = tf.nn.dynamic_rnn(cell, data, dtype=tf.float32)\n",
    "val = tf.transpose(val,[1,0,2])\n",
    "last = tf.gather(val,int(val.get_shape()[0])-1)"
   ]
  },
  {
   "cell_type": "code",
   "execution_count": 14,
   "metadata": {
    "collapsed": true
   },
   "outputs": [],
   "source": [
    "weight = tf.Variable(tf.truncated_normal([num_hidden, int(target.get_shape()[1])]))\n",
    "bias = tf.Variable(tf.constant(0.1, shape=[target.get_shape()[1]]))\n",
    "prediction = tf.nn.sigmoid(tf.matmul(last,weight)+bias)"
   ]
  },
  {
   "cell_type": "code",
   "execution_count": 42,
   "metadata": {},
   "outputs": [],
   "source": [
    "allpredictions = tf.map_fn(lambda x: tf.matmul(x,weight)+bias, val, dtype=tf.float32)\n",
    "allpredictions = tf.transpose(allpredictions,[1,0,2])"
   ]
  },
  {
   "cell_type": "code",
   "execution_count": 17,
   "metadata": {
    "collapsed": true
   },
   "outputs": [],
   "source": [
    "loss = tf.reduce_mean(tf.squared_difference(prediction, target))"
   ]
  },
  {
   "cell_type": "code",
   "execution_count": 18,
   "metadata": {},
   "outputs": [
    {
     "name": "stderr",
     "output_type": "stream",
     "text": [
      "/home/users/u5722780406/miniconda3/envs/tf/lib/python3.5/site-packages/tensorflow/python/ops/gradients_impl.py:93: UserWarning: Converting sparse IndexedSlices to a dense Tensor of unknown shape. This may consume a large amount of memory.\n",
      "  \"Converting sparse IndexedSlices to a dense Tensor of unknown shape. \"\n"
     ]
    }
   ],
   "source": [
    "optimizer = tf.train.AdamOptimizer()\n",
    "minimize = optimizer.minimize(loss)"
   ]
  },
  {
   "cell_type": "code",
   "execution_count": 19,
   "metadata": {
    "collapsed": true
   },
   "outputs": [],
   "source": [
    "init_op = tf.global_variables_initializer()\n",
    "\n",
    "config = tf.ConfigProto()\n",
    "config.gpu_options.per_process_gpu_memory_fraction = 0.4\n",
    "sess = tf.Session(config=config)\n",
    "\n",
    "sess.run(init_op)"
   ]
  },
  {
   "cell_type": "code",
   "execution_count": 20,
   "metadata": {},
   "outputs": [
    {
     "name": "stdout",
     "output_type": "stream",
     "text": [
      "None\n"
     ]
    }
   ],
   "source": [
    "gpu_options = tf.GPUOptions(per_process_gpu_memory_fraction=0.3, allow_growth=True)\n",
    "config = tf.ConfigProto(gpu_options=gpu_options,allow_soft_placement=True)\n",
    "sess = tf.Session(config=config)\n",
    "print(sess.run(init_op))"
   ]
  },
  {
   "cell_type": "code",
   "execution_count": 21,
   "metadata": {
    "collapsed": true
   },
   "outputs": [],
   "source": [
    "def toSent(n):\n",
    "    if(n<0.45):return 0\n",
    "    elif(n<0.65):return 0.5\n",
    "    else:return 1"
   ]
  },
  {
   "cell_type": "code",
   "execution_count": 22,
   "metadata": {
    "collapsed": true
   },
   "outputs": [],
   "source": [
    "def cal_acc(pred,real):\n",
    "    assert(pred.shape[0]==real.shape[0])\n",
    "    pred_label = pred.copy()\n",
    "    pred_label[(pred_label<0.45)] = 0\n",
    "    pred_label[(pred_label>0.45)&(pred<0.65)] = 0.5\n",
    "    pred_label[(pred_label>.65)&(pred<=1)] = 1\n",
    "\n",
    "    real_label = real.copy()\n",
    "    real_label[(real_label<0.45)] = 0\n",
    "    real_label[(real_label>0.45)&(real_label<0.65)] = 0.5\n",
    "    real_label[(real_label>0.65)&(real_label<=1)] = 1\n",
    "    return ((pred_label==real_label).sum())/pred_label.shape[0]\n"
   ]
  },
  {
   "cell_type": "code",
   "execution_count": null,
   "metadata": {
    "scrolled": false
   },
   "outputs": [],
   "source": [
    "batch_size = 8000\n",
    "no_of_batches = int(len(X_train)/batch_size)\n",
    "epoch = 30\n",
    "for i in range(epoch):\n",
    "    ptr = 0\n",
    "    avgAcc = 0\n",
    "    for j in range(no_of_batches):\n",
    "        #inp, out = train_input[ptr:ptr+batch_size], train_output[ptr:ptr+batch_size]\n",
    "        (batch_X,batch_Y) = generate_batch(ptr)\n",
    "        ptr+=batch_size\n",
    "        feed_dict = {data: batch_X, target: batch_Y}\n",
    "        sess.run(minimize,feed_dict)\n",
    "        predict = sess.run(prediction,feed_dict)\n",
    "        avgAcc+= cal_acc(predict,batch_Y)/no_of_batches\n",
    "        #accuracy = sess.run(acc,{data:test_X,target:test_Y})\n",
    "        #avgAcc += accuracy/no_of_batches\n",
    "        print(str(j)+\".\",end='')\n",
    "        \n",
    "    print(\"\\nEpoch - \",str(i))\n",
    "    print(\"Avg Accuracy (training set): %.2f\"%avgAcc)\n",
    "    #print(\"Avg acc: {}\".format(round(avgAcc,2)))\n",
    "    selInt = random.randint(0,test_X.shape[0])\n",
    "    test_pred = sess.run(prediction,{data:test_X[selInt:selInt+10],target:test_Y[selInt:selInt+10]})\n",
    "    all_test_pred = sess.run(allpredictions,{data:test_X[selInt:selInt+10],target:test_Y[selInt:selInt+10]})\n",
    "    print(all_test_pred.shape)\n",
    "    err = sess.run(loss,{data:test_X[selInt:selInt+10],target:test_Y[selInt:selInt+10]})\n",
    "    #print(\"Loss: %f\"%err)\n",
    "    \n",
    "    validation_pred = sess.run(prediction,{data: test_X, target: test_Y})\n",
    "    acc = cal_acc(validation_pred,test_Y)\n",
    "    print(\"Accuracy (test set): %.2f\"%acc)\n",
    "    print(\"====================================\")\n",
    "    print(\"Show test result\")\n",
    "\n",
    "    for i,pred in enumerate(test_pred):\n",
    "        print(all_test_pred[i][-len(X_test[selInt+i]):])\n",
    "        if(toSent(pred[0])==toSent(y_test[selInt+i])): print(\"✓\")\n",
    "        else: \n",
    "            print(\"\".join(X_test[selInt+i]),end=' ')\n",
    "            print(pred[0],end=\" Ans: \")\n",
    "            print(y_test[selInt+i],end=' ')\n",
    "            print(\"X\")\n",
    "    print(\"Acc: %.2f\"%cal_acc(test_pred,test_Y[selInt:selInt+10]))\n",
    "validation_pred = sess.run(prediction,{data: valid_X, target: valid_Y})\n",
    "incorrect = sess.run(loss,{data: valid_X, target: valid_Y})\n",
    "print('Epoch {:2d} error {:3.1f}%'.format(i + 1, 100 * incorrect))\n"
   ]
  },
  {
   "cell_type": "code",
   "execution_count": null,
   "metadata": {
    "collapsed": true
   },
   "outputs": [],
   "source": [
    "saver = tf.train.Saver()\n",
    "saver.save(sess, 'lstm_sentiment_model_overfit_75seq',global_step=1000)"
   ]
  },
  {
   "cell_type": "code",
   "execution_count": null,
   "metadata": {
    "collapsed": true
   },
   "outputs": [],
   "source": [
    "sess.close()\n",
    "#https://stackoverflow.com/questions/33759623/tensorflow-how-to-save-restore-a-model"
   ]
  },
  {
   "cell_type": "code",
   "execution_count": 39,
   "metadata": {},
   "outputs": [
    {
     "name": "stdout",
     "output_type": "stream",
     "text": [
      "\u001b[46m\u001b[31mhello\u001b[0m \u001b[32mworld\u001b[0m\n"
     ]
    }
   ],
   "source": [
    "print( colored('hello', 'red','on_cyan'), colored('world', 'green'))"
   ]
  }
 ],
 "metadata": {
  "kernelspec": {
   "display_name": "Python 3",
   "language": "python",
   "name": "python3"
  },
  "language_info": {
   "codemirror_mode": {
    "name": "ipython",
    "version": 3
   },
   "file_extension": ".py",
   "mimetype": "text/x-python",
   "name": "python",
   "nbconvert_exporter": "python",
   "pygments_lexer": "ipython3",
   "version": "3.5.3"
  }
 },
 "nbformat": 4,
 "nbformat_minor": 2
}
