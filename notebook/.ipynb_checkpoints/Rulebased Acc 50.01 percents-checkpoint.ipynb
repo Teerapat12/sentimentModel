{
 "cells": [
  {
   "cell_type": "code",
   "execution_count": 34,
   "metadata": {
    "collapsed": true
   },
   "outputs": [],
   "source": [
    "import pandas as pd\n",
    "import numpy as np\n",
    "from sklearn.metrics import accuracy_score,f1_score,confusion_matrix"
   ]
  },
  {
   "cell_type": "code",
   "execution_count": 2,
   "metadata": {
    "collapsed": true
   },
   "outputs": [],
   "source": [
    "df = pd.read_csv(\"../dataset/facebook_comment_cleaned.tsv\",sep='\\t',encoding='utf-8')"
   ]
  },
  {
   "cell_type": "code",
   "execution_count": 7,
   "metadata": {},
   "outputs": [
    {
     "name": "stderr",
     "output_type": "stream",
     "text": [
      "/home/users/u5722780406/miniconda3/envs/tf/lib/python3.5/site-packages/ipykernel_launcher.py:2: SettingWithCopyWarning: \n",
      "A value is trying to be set on a copy of a slice from a DataFrame.\n",
      "Try using .loc[row_indexer,col_indexer] = value instead\n",
      "\n",
      "See the caveats in the documentation: http://pandas.pydata.org/pandas-docs/stable/indexing.html#indexing-view-versus-copy\n",
      "  \n"
     ]
    }
   ],
   "source": [
    "scored = df[df['scoredAmt']>0]\n",
    "scored['token_arr'] = scored['token'].apply(lambda x: eval(x))"
   ]
  },
  {
   "cell_type": "code",
   "execution_count": 13,
   "metadata": {},
   "outputs": [
    {
     "name": "stderr",
     "output_type": "stream",
     "text": [
      "/home/users/u5722780406/miniconda3/envs/tf/lib/python3.5/site-packages/ipykernel_launcher.py:9: SettingWithCopyWarning: \n",
      "A value is trying to be set on a copy of a slice from a DataFrame.\n",
      "Try using .loc[row_indexer,col_indexer] = value instead\n",
      "\n",
      "See the caveats in the documentation: http://pandas.pydata.org/pandas-docs/stable/indexing.html#indexing-view-versus-copy\n",
      "  if __name__ == '__main__':\n"
     ]
    }
   ],
   "source": [
    "scored['score'].value_counts()\n",
    "def giveClass(score):\n",
    "    if(score==-32 ):\n",
    "        return -32\n",
    "    if(score==0):return 0\n",
    "    if(score>0):return 1\n",
    "    if(score<0):return -1\n",
    "scored['class'] = scored['score'].apply(giveClass)"
   ]
  },
  {
   "cell_type": "code",
   "execution_count": 14,
   "metadata": {},
   "outputs": [
    {
     "data": {
      "text/plain": [
       "-1     3736\n",
       "-32    3270\n",
       " 1     1902\n",
       " 0     1850\n",
       "Name: class, dtype: int64"
      ]
     },
     "execution_count": 14,
     "metadata": {},
     "output_type": "execute_result"
    }
   ],
   "source": [
    "scored['class'].value_counts()"
   ]
  },
  {
   "cell_type": "code",
   "execution_count": 205,
   "metadata": {},
   "outputs": [
    {
     "name": "stdout",
     "output_type": "stream",
     "text": [
      "Prediction accuracy: 34.73%\n",
      "[[   0 3270    0    0]\n",
      " [   0 3736    0    0]\n",
      " [   0 1850    0    0]\n",
      " [   0 1902    0    0]]\n"
     ]
    }
   ],
   "source": [
    "def computeAcc(y,y_pred):\n",
    "    print(\"Prediction accuracy: {}%\".format(round(accuracy_score(y,y_pred)*100,2)))\n",
    "    print(confusion_matrix(y,y_pred))\n",
    "y = scored['class']\n",
    "computeAcc(y,y_pred)"
   ]
  },
  {
   "cell_type": "code",
   "execution_count": 206,
   "metadata": {
    "collapsed": true
   },
   "outputs": [],
   "source": [
    "askwords = ['ทำไม','ยังไง','เท่าไร','ที่ไหน','ใช่ไหม','ไหน','ทำไง','ยังใง','กันแน่','มั๊ยคะ','หรือไม่','วันไหน','เท่าไหร่','เมื่อไหร่','มั้ยครับ','ตอบแชท','กี่บาท','ไหมค่ะ','บ้างค่ะ','ติดต่อ','มีไหม','สอบถาม','หรือป่าว','รึป่าว','รึเปล่า','อย่างไร','อย่างไง','ยังค่ะ','ยังคับ','ยังครับ','ถ้า','ได้ปะ','บ้างครับ','ได้ไหม','ได้ป่ะ','ได้ป้ะ','ได้ป่าว']\n",
    "negwords = ['ห่วย','กาก','แย่','ปรับปรุง','ช้า','ไม่สน','อืด','ย้ายค่าย','เปลี่ยนค่าย','ควย','สัด','สาส','เหี้ย','ดกทง','ไม่ดี','กระตุก','โว้ย','หมุน']\n",
    "poswords = ['แรง','เร็ว','ชื่นชม','สุดยอด','ดี','รัก','เจ๋ง','มั่นใจ','กำลังใจ','สู้ๆ','สนใจ','เริ่ด','ขอบคุณ','อยากได้','good']\n",
    "def predict(message): \n",
    "    if any(word in message for word in negwords):\n",
    "        return -1\n",
    "    elif any(word in message for word in askwords):\n",
    "        return 0\n",
    "    elif any(word in message for word in poswords):\n",
    "        return 1\n",
    "    else:\n",
    "        return -32"
   ]
  },
  {
   "cell_type": "code",
   "execution_count": 207,
   "metadata": {},
   "outputs": [
    {
     "name": "stdout",
     "output_type": "stream",
     "text": [
      "Prediction accuracy: 50.01%\n",
      "[[2434   99  338  399]\n",
      " [ 957 1795  589  395]\n",
      " [ 769  169  699  213]\n",
      " [ 596  145  709  452]]\n"
     ]
    },
    {
     "name": "stderr",
     "output_type": "stream",
     "text": [
      "/home/users/u5722780406/miniconda3/envs/tf/lib/python3.5/site-packages/ipykernel_launcher.py:1: SettingWithCopyWarning: \n",
      "A value is trying to be set on a copy of a slice from a DataFrame.\n",
      "Try using .loc[row_indexer,col_indexer] = value instead\n",
      "\n",
      "See the caveats in the documentation: http://pandas.pydata.org/pandas-docs/stable/indexing.html#indexing-view-versus-copy\n",
      "  \"\"\"Entry point for launching an IPython kernel.\n"
     ]
    }
   ],
   "source": [
    "scored['pred'] = scored['message'].apply(predict)\n",
    "computeAcc(y,scored['pred'])"
   ]
  },
  {
   "cell_type": "code",
   "execution_count": 201,
   "metadata": {},
   "outputs": [
    {
     "data": {
      "text/html": [
       "<div>\n",
       "<style>\n",
       "    .dataframe thead tr:only-child th {\n",
       "        text-align: right;\n",
       "    }\n",
       "\n",
       "    .dataframe thead th {\n",
       "        text-align: left;\n",
       "    }\n",
       "\n",
       "    .dataframe tbody tr th {\n",
       "        vertical-align: top;\n",
       "    }\n",
       "</style>\n",
       "<table border=\"1\" class=\"dataframe\">\n",
       "  <thead>\n",
       "    <tr style=\"text-align: right;\">\n",
       "      <th></th>\n",
       "      <th>message</th>\n",
       "      <th>pred</th>\n",
       "      <th>class</th>\n",
       "    </tr>\n",
       "  </thead>\n",
       "  <tbody>\n",
       "    <tr>\n",
       "      <th>151824</th>\n",
       "      <td>โทรทุกค่าย ใช่ไหมคะ</td>\n",
       "      <td>-32</td>\n",
       "      <td>0</td>\n",
       "    </tr>\n",
       "    <tr>\n",
       "      <th>159487</th>\n",
       "      <td>มีโปร ของhuawei p 10 plus แบบนี้บ้างไหมครับ</td>\n",
       "      <td>-32</td>\n",
       "      <td>0</td>\n",
       "    </tr>\n",
       "    <tr>\n",
       "      <th>60881</th>\n",
       "      <td>แอดตอบ inbox หน่อยครับ</td>\n",
       "      <td>-32</td>\n",
       "      <td>0</td>\n",
       "    </tr>\n",
       "    <tr>\n",
       "      <th>136022</th>\n",
       "      <td>อ่าน in Box หน่อยครับ</td>\n",
       "      <td>-32</td>\n",
       "      <td>0</td>\n",
       "    </tr>\n",
       "    <tr>\n",
       "      <th>160677</th>\n",
       "      <td>P10 ที่มีโปรพิเศษกว่าข้างนอกไหมครับ</td>\n",
       "      <td>-32</td>\n",
       "      <td>0</td>\n",
       "    </tr>\n",
       "    <tr>\n",
       "      <th>155677</th>\n",
       "      <td>กดเว็บเเล้วก็บอกให้รีสตาร์ทเครื่อง พอทำ   เเล้...</td>\n",
       "      <td>-32</td>\n",
       "      <td>0</td>\n",
       "    </tr>\n",
       "    <tr>\n",
       "      <th>122444</th>\n",
       "      <td>กดรหัสอะไรครับถึงรู้ว่าใช้เบอร์นี้มากี่เดือนกี...</td>\n",
       "      <td>-32</td>\n",
       "      <td>0</td>\n",
       "    </tr>\n",
       "    <tr>\n",
       "      <th>130586</th>\n",
       "      <td>ผมถามคุณธนินทร์ เจียรวนนท์เรื่องข้อความสั้นกวน...</td>\n",
       "      <td>-32</td>\n",
       "      <td>0</td>\n",
       "    </tr>\n",
       "    <tr>\n",
       "      <th>100990</th>\n",
       "      <td>หมดวันที่6   แต่วันนี้ตัดไปแล้ว\\nนร้อย.....อธิ...</td>\n",
       "      <td>-32</td>\n",
       "      <td>0</td>\n",
       "    </tr>\n",
       "    <tr>\n",
       "      <th>100064</th>\n",
       "      <td>ลูกค้าเก่าอยากเปลี่ยนแพ๊คเกจ</td>\n",
       "      <td>-32</td>\n",
       "      <td>0</td>\n",
       "    </tr>\n",
       "    <tr>\n",
       "      <th>136023</th>\n",
       "      <td>โปรนี้ ที่สุดแห่งความคุ้ม</td>\n",
       "      <td>-32</td>\n",
       "      <td>0</td>\n",
       "    </tr>\n",
       "    <tr>\n",
       "      <th>67956</th>\n",
       "      <td>จะได้ไปดูpsi เหมื่อนเดิม</td>\n",
       "      <td>-32</td>\n",
       "      <td>0</td>\n",
       "    </tr>\n",
       "    <tr>\n",
       "      <th>102496</th>\n",
       "      <td>แพ็กหลักราคาประมาณนี้มีมี้ยครับ</td>\n",
       "      <td>-32</td>\n",
       "      <td>0</td>\n",
       "    </tr>\n",
       "    <tr>\n",
       "      <th>17359</th>\n",
       "      <td>บางแพคเกจที่มีอินเตอร์เนตแล้ว ขอรับไม่ได้เหรอค...</td>\n",
       "      <td>-32</td>\n",
       "      <td>0</td>\n",
       "    </tr>\n",
       "    <tr>\n",
       "      <th>13626</th>\n",
       "      <td>ถูกใจสิ่งนี้</td>\n",
       "      <td>-32</td>\n",
       "      <td>0</td>\n",
       "    </tr>\n",
       "    <tr>\n",
       "      <th>131565</th>\n",
       "      <td>อยากรู้วิธียกเลิก package net ต่ออายุอัตโนมัติ...</td>\n",
       "      <td>-32</td>\n",
       "      <td>0</td>\n",
       "    </tr>\n",
       "    <tr>\n",
       "      <th>135493</th>\n",
       "      <td>งานนี้ต้องใช้บัตรเข้าด้วยหรอครับ</td>\n",
       "      <td>-32</td>\n",
       "      <td>0</td>\n",
       "    </tr>\n",
       "    <tr>\n",
       "      <th>27811</th>\n",
       "      <td>น่าจะที่อื่นแต่ไม่ใช่สามพราน นครปฐม</td>\n",
       "      <td>-32</td>\n",
       "      <td>0</td>\n",
       "    </tr>\n",
       "    <tr>\n",
       "      <th>99642</th>\n",
       "      <td>ไม่เห็นจริงเลย วันก่อนจะไปจ่ายค่าโทรศัพท์ ร้าน...</td>\n",
       "      <td>-32</td>\n",
       "      <td>0</td>\n",
       "    </tr>\n",
       "    <tr>\n",
       "      <th>123965</th>\n",
       "      <td>😣😣😣😣😤😤😤😤 ผมใช้มานานแล้ว ไม่เห้งจะมีเนตฟรีเลย อ...</td>\n",
       "      <td>-32</td>\n",
       "      <td>0</td>\n",
       "    </tr>\n",
       "  </tbody>\n",
       "</table>\n",
       "</div>"
      ],
      "text/plain": [
       "                                                  message  pred  class\n",
       "151824                                โทรทุกค่าย ใช่ไหมคะ   -32      0\n",
       "159487        มีโปร ของhuawei p 10 plus แบบนี้บ้างไหมครับ   -32      0\n",
       "60881                              แอดตอบ inbox หน่อยครับ   -32      0\n",
       "136022                              อ่าน in Box หน่อยครับ   -32      0\n",
       "160677                P10 ที่มีโปรพิเศษกว่าข้างนอกไหมครับ   -32      0\n",
       "155677  กดเว็บเเล้วก็บอกให้รีสตาร์ทเครื่อง พอทำ   เเล้...   -32      0\n",
       "122444  กดรหัสอะไรครับถึงรู้ว่าใช้เบอร์นี้มากี่เดือนกี...   -32      0\n",
       "130586  ผมถามคุณธนินทร์ เจียรวนนท์เรื่องข้อความสั้นกวน...   -32      0\n",
       "100990  หมดวันที่6   แต่วันนี้ตัดไปแล้ว\\nนร้อย.....อธิ...   -32      0\n",
       "100064                       ลูกค้าเก่าอยากเปลี่ยนแพ๊คเกจ   -32      0\n",
       "136023                          โปรนี้ ที่สุดแห่งความคุ้ม   -32      0\n",
       "67956                            จะได้ไปดูpsi เหมื่อนเดิม   -32      0\n",
       "102496                    แพ็กหลักราคาประมาณนี้มีมี้ยครับ   -32      0\n",
       "17359   บางแพคเกจที่มีอินเตอร์เนตแล้ว ขอรับไม่ได้เหรอค...   -32      0\n",
       "13626                                        ถูกใจสิ่งนี้   -32      0\n",
       "131565  อยากรู้วิธียกเลิก package net ต่ออายุอัตโนมัติ...   -32      0\n",
       "135493                   งานนี้ต้องใช้บัตรเข้าด้วยหรอครับ   -32      0\n",
       "27811                 น่าจะที่อื่นแต่ไม่ใช่สามพราน นครปฐม   -32      0\n",
       "99642   ไม่เห็นจริงเลย วันก่อนจะไปจ่ายค่าโทรศัพท์ ร้าน...   -32      0\n",
       "123965  😣😣😣😣😤😤😤😤 ผมใช้มานานแล้ว ไม่เห้งจะมีเนตฟรีเลย อ...   -32      0"
      ]
     },
     "execution_count": 201,
     "metadata": {},
     "output_type": "execute_result"
    }
   ],
   "source": [
    "scored[['message','pred','class']][(scored['class']==0)&(scored['pred']==-32)].sample(20)"
   ]
  },
  {
   "cell_type": "code",
   "execution_count": null,
   "metadata": {
    "collapsed": true
   },
   "outputs": [],
   "source": []
  }
 ],
 "metadata": {
  "kernelspec": {
   "display_name": "Python 3",
   "language": "python",
   "name": "python3"
  },
  "language_info": {
   "codemirror_mode": {
    "name": "ipython",
    "version": 3
   },
   "file_extension": ".py",
   "mimetype": "text/x-python",
   "name": "python",
   "nbconvert_exporter": "python",
   "pygments_lexer": "ipython3",
   "version": "3.5.3"
  }
 },
 "nbformat": 4,
 "nbformat_minor": 2
}
