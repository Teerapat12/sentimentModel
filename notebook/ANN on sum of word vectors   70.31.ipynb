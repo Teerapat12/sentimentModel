{
 "cells": [
  {
   "cell_type": "code",
   "execution_count": 202,
   "metadata": {
    "collapsed": true
   },
   "outputs": [],
   "source": [
    "import pandas as pd\n",
    "import numpy as np\n",
    "from sklearn.model_selection import train_test_split\n",
    "from sklearn.metrics import accuracy_score\n",
    "from sklearn.metrics import confusion_matrix"
   ]
  },
  {
   "cell_type": "code",
   "execution_count": 203,
   "metadata": {
    "collapsed": true
   },
   "outputs": [],
   "source": [
    "df = pd.read_csv(\"../dataset/facebook_comment_cleaned.tsv\",sep='\\t',encoding='utf-8')\n",
    "df['token_arr'] = df['token'].apply(lambda x:eval(x))"
   ]
  },
  {
   "cell_type": "code",
   "execution_count": 204,
   "metadata": {
    "collapsed": true
   },
   "outputs": [],
   "source": [
    "from gensim import models\n",
    "model = models.Word2Vec.load('../model/fbcomment.w2v')"
   ]
  },
  {
   "cell_type": "code",
   "execution_count": 205,
   "metadata": {
    "collapsed": true
   },
   "outputs": [],
   "source": [
    "scored = df[df['scoredAmt']>0]"
   ]
  },
  {
   "cell_type": "code",
   "execution_count": 206,
   "metadata": {},
   "outputs": [
    {
     "name": "stdout",
     "output_type": "stream",
     "text": [
      ".\r"
     ]
    }
   ],
   "source": [
    "k = 800\n",
    "def getCommentVector(comment,method='sum'):\n",
    "    commentVec = np.zeros(800)\n",
    "    for word in comment:\n",
    "        try:\n",
    "            commentVec+=model[word]\n",
    "        except Exception:\n",
    "            print(\".\",end='\\r')\n",
    "    if(method=='avg'):\n",
    "        commentVec/=len(comment)\n",
    "    return list(commentVec)\n",
    "X = scored['token_arr'].apply(getCommentVector)\n",
    "X = np.array([np.array(i) for i in X])"
   ]
  },
  {
   "cell_type": "code",
   "execution_count": 207,
   "metadata": {},
   "outputs": [
    {
     "name": "stderr",
     "output_type": "stream",
     "text": [
      "/home/users/u5722780406/miniconda3/envs/tf/lib/python3.5/site-packages/ipykernel_launcher.py:7: SettingWithCopyWarning: \n",
      "A value is trying to be set on a copy of a slice from a DataFrame.\n",
      "Try using .loc[row_indexer,col_indexer] = value instead\n",
      "\n",
      "See the caveats in the documentation: http://pandas.pydata.org/pandas-docs/stable/indexing.html#indexing-view-versus-copy\n",
      "  import sys\n"
     ]
    }
   ],
   "source": [
    "def giveClass(score):\n",
    "    if(score==-32 ):\n",
    "        return -32\n",
    "    if(score==0):return 0\n",
    "    if(score>0):return 1\n",
    "    if(score<0):return -1\n",
    "scored['class'] = scored['score'].apply(giveClass)\n",
    "y = scored['class']\n",
    "Y = pd.get_dummies(y)"
   ]
  },
  {
   "cell_type": "code",
   "execution_count": 208,
   "metadata": {
    "collapsed": true
   },
   "outputs": [],
   "source": [
    "X_train,X_test , y_train,y_test = train_test_split(X,Y.values,test_size=0.2,random_state=42)"
   ]
  },
  {
   "cell_type": "code",
   "execution_count": 209,
   "metadata": {},
   "outputs": [
    {
     "data": {
      "text/plain": [
       "array([[0, 0, 0, 1],\n",
       "       [1, 0, 0, 0],\n",
       "       [0, 1, 0, 0],\n",
       "       ..., \n",
       "       [0, 0, 1, 0],\n",
       "       [1, 0, 0, 0],\n",
       "       [0, 1, 0, 0]], dtype=uint8)"
      ]
     },
     "execution_count": 209,
     "metadata": {},
     "output_type": "execute_result"
    }
   ],
   "source": [
    "y_train"
   ]
  },
  {
   "cell_type": "code",
   "execution_count": 286,
   "metadata": {
    "collapsed": true
   },
   "outputs": [],
   "source": [
    "from keras.models import Sequential\n",
    "from keras.layers import Dense, Activation, Dropout\n",
    "#from keras.optimizers import SGD\n",
    "model = Sequential()\n",
    "model.add(Dense(600, activation='relu', input_dim=k))\n",
    "model.add(Dropout(0.65))\n",
    "model.add(Dense(400, activation='relu'))\n",
    "model.add(Dropout(0.65))\n",
    "model.add(Dense(400, activation='relu'))\n",
    "model.add(Dropout(0.60))\n",
    "model.add(Dense(400, activation='relu'))\n",
    "model.add(Dropout(0.55))\n",
    "model.add(Dense(4, activation='softmax'))\n",
    "\n",
    "#sgd = SGD(lr=0.01, decay=1e-6, momentum=0.8, nesterov=True)\n",
    "model.compile(loss='categorical_crossentropy',\n",
    "              optimizer='adam',\n",
    "              metrics=['accuracy'])"
   ]
  },
  {
   "cell_type": "code",
   "execution_count": 287,
   "metadata": {},
   "outputs": [
    {
     "name": "stdout",
     "output_type": "stream",
     "text": [
      "Epoch 1/100\n",
      "8606/8606 [==============================] - 5s - loss: 6.6045 - acc: 0.4050     \n",
      "Epoch 2/100\n",
      "8606/8606 [==============================] - 4s - loss: 4.6777 - acc: 0.4984     \n",
      "Epoch 3/100\n",
      "8606/8606 [==============================] - 4s - loss: 2.4238 - acc: 0.5117     \n",
      "Epoch 4/100\n",
      "8606/8606 [==============================] - 4s - loss: 1.5726 - acc: 0.5200     \n",
      "Epoch 5/100\n",
      "8606/8606 [==============================] - 4s - loss: 1.3437 - acc: 0.5404     \n",
      "Epoch 6/100\n",
      "8606/8606 [==============================] - 4s - loss: 1.2101 - acc: 0.5511     \n",
      "Epoch 7/100\n",
      "8606/8606 [==============================] - 4s - loss: 1.1599 - acc: 0.5811     \n",
      "Epoch 8/100\n",
      "8606/8606 [==============================] - 4s - loss: 1.1919 - acc: 0.5689     \n",
      "Epoch 9/100\n",
      "8606/8606 [==============================] - 4s - loss: 1.1583 - acc: 0.5761     \n",
      "Epoch 10/100\n",
      "8606/8606 [==============================] - 4s - loss: 1.1069 - acc: 0.5921     - E\n",
      "Epoch 11/100\n",
      "8606/8606 [==============================] - 4s - loss: 1.0908 - acc: 0.5975     \n",
      "Epoch 12/100\n",
      "8606/8606 [==============================] - 4s - loss: 1.1100 - acc: 0.5928     - ETA: 3s\n",
      "Epoch 13/100\n",
      "8606/8606 [==============================] - 4s - loss: 1.1322 - acc: 0.5780     \n",
      "Epoch 14/100\n",
      "8606/8606 [==============================] - 4s - loss: 1.0983 - acc: 0.5860     \n",
      "Epoch 15/100\n",
      "8606/8606 [==============================] - 4s - loss: 1.0719 - acc: 0.5984     \n",
      "Epoch 16/100\n",
      "8606/8606 [==============================] - 4s - loss: 1.0965 - acc: 0.5911     \n",
      "Epoch 17/100\n",
      "8606/8606 [==============================] - 4s - loss: 1.0861 - acc: 0.5932     - ETA: \n",
      "Epoch 18/100\n",
      "8606/8606 [==============================] - 4s - loss: 1.1039 - acc: 0.5901     \n",
      "Epoch 19/100\n",
      "8606/8606 [==============================] - 3s - loss: 1.1076 - acc: 0.5859     \n",
      "Epoch 20/100\n",
      "8606/8606 [==============================] - 4s - loss: 1.0703 - acc: 0.5920     \n",
      "Epoch 21/100\n",
      "8606/8606 [==============================] - 4s - loss: 1.0599 - acc: 0.5995     \n",
      "Epoch 22/100\n",
      "8606/8606 [==============================] - 4s - loss: 1.0979 - acc: 0.5828     \n",
      "Epoch 23/100\n",
      "8606/8606 [==============================] - 4s - loss: 1.0804 - acc: 0.5863     \n",
      "Epoch 24/100\n",
      "8606/8606 [==============================] - 4s - loss: 1.1011 - acc: 0.5867     \n",
      "Epoch 25/100\n",
      "8606/8606 [==============================] - 4s - loss: 1.0968 - acc: 0.5804     \n",
      "Epoch 26/100\n",
      "8606/8606 [==============================] - 4s - loss: 1.0942 - acc: 0.5892     \n",
      "Epoch 27/100\n",
      "8606/8606 [==============================] - 4s - loss: 1.0807 - acc: 0.5862     \n",
      "Epoch 28/100\n",
      "8606/8606 [==============================] - 4s - loss: 1.0915 - acc: 0.5875     \n",
      "Epoch 29/100\n",
      "8606/8606 [==============================] - 4s - loss: 1.0668 - acc: 0.5962     \n",
      "Epoch 30/100\n",
      "8606/8606 [==============================] - 4s - loss: 1.0720 - acc: 0.5971     \n",
      "Epoch 31/100\n",
      "8606/8606 [==============================] - 4s - loss: 1.0630 - acc: 0.5950     \n",
      "Epoch 32/100\n",
      "8606/8606 [==============================] - 4s - loss: 1.0807 - acc: 0.5999     \n",
      "Epoch 33/100\n",
      "8606/8606 [==============================] - 4s - loss: 1.0631 - acc: 0.5993     \n",
      "Epoch 34/100\n",
      "8606/8606 [==============================] - 4s - loss: 1.0675 - acc: 0.5917     \n",
      "Epoch 35/100\n",
      "8606/8606 [==============================] - 4s - loss: 1.0910 - acc: 0.5869     \n",
      "Epoch 36/100\n",
      "8606/8606 [==============================] - 4s - loss: 1.0692 - acc: 0.5865     \n",
      "Epoch 37/100\n",
      "8606/8606 [==============================] - 4s - loss: 1.0642 - acc: 0.5970     \n",
      "Epoch 38/100\n",
      "8606/8606 [==============================] - 4s - loss: 1.0421 - acc: 0.5992     \n",
      "Epoch 39/100\n",
      "8606/8606 [==============================] - 4s - loss: 1.0510 - acc: 0.6003     \n",
      "Epoch 40/100\n",
      "8606/8606 [==============================] - 4s - loss: 1.0557 - acc: 0.5999     \n",
      "Epoch 41/100\n",
      "8606/8606 [==============================] - 4s - loss: 1.0529 - acc: 0.6070     \n",
      "Epoch 42/100\n",
      "8606/8606 [==============================] - 4s - loss: 1.0500 - acc: 0.6068     \n",
      "Epoch 43/100\n",
      "8606/8606 [==============================] - 4s - loss: 1.0433 - acc: 0.6004     \n",
      "Epoch 44/100\n",
      "8606/8606 [==============================] - 4s - loss: 1.0540 - acc: 0.6083     \n",
      "Epoch 45/100\n",
      "8606/8606 [==============================] - 4s - loss: 1.0500 - acc: 0.6007     \n",
      "Epoch 46/100\n",
      "8606/8606 [==============================] - 4s - loss: 1.0679 - acc: 0.5983     \n",
      "Epoch 47/100\n",
      "8606/8606 [==============================] - 4s - loss: 1.0446 - acc: 0.5985     \n",
      "Epoch 48/100\n",
      "8606/8606 [==============================] - 4s - loss: 1.0457 - acc: 0.5971     \n",
      "Epoch 49/100\n",
      "8606/8606 [==============================] - 4s - loss: 1.0489 - acc: 0.6063     \n",
      "Epoch 50/100\n",
      "8606/8606 [==============================] - 4s - loss: 1.0470 - acc: 0.6093     \n",
      "Epoch 51/100\n",
      "8606/8606 [==============================] - 4s - loss: 1.0489 - acc: 0.6104     \n",
      "Epoch 52/100\n",
      "8606/8606 [==============================] - 4s - loss: 1.0430 - acc: 0.6098     \n",
      "Epoch 53/100\n",
      "8606/8606 [==============================] - 4s - loss: 1.0274 - acc: 0.6107     - ETA: 1s - l\n",
      "Epoch 54/100\n",
      "8606/8606 [==============================] - 4s - loss: 1.0376 - acc: 0.6092     \n",
      "Epoch 55/100\n",
      "8606/8606 [==============================] - 4s - loss: 1.0193 - acc: 0.6191     \n",
      "Epoch 56/100\n",
      "8606/8606 [==============================] - 4s - loss: 1.0221 - acc: 0.6104     \n",
      "Epoch 57/100\n",
      "8606/8606 [==============================] - 4s - loss: 1.0246 - acc: 0.6064     \n",
      "Epoch 58/100\n",
      "8606/8606 [==============================] - 4s - loss: 1.0250 - acc: 0.6081     \n",
      "Epoch 59/100\n",
      "8606/8606 [==============================] - 4s - loss: 1.0074 - acc: 0.6069     \n",
      "Epoch 60/100\n",
      "8606/8606 [==============================] - 4s - loss: 1.0141 - acc: 0.6112     \n",
      "Epoch 61/100\n",
      "8606/8606 [==============================] - 3s - loss: 1.0144 - acc: 0.6118     \n",
      "Epoch 62/100\n",
      "8606/8606 [==============================] - 4s - loss: 1.0129 - acc: 0.6021     \n",
      "Epoch 63/100\n",
      "8606/8606 [==============================] - 4s - loss: 1.0366 - acc: 0.6085     \n",
      "Epoch 64/100\n",
      "8606/8606 [==============================] - 4s - loss: 1.0444 - acc: 0.6081     \n",
      "Epoch 65/100\n",
      "8606/8606 [==============================] - 4s - loss: 1.0187 - acc: 0.6136     \n",
      "Epoch 66/100\n",
      "8606/8606 [==============================] - 4s - loss: 1.0346 - acc: 0.6090     \n",
      "Epoch 67/100\n",
      "8606/8606 [==============================] - 4s - loss: 1.0224 - acc: 0.6219     \n",
      "Epoch 68/100\n",
      "8606/8606 [==============================] - 4s - loss: 1.0217 - acc: 0.6142     \n",
      "Epoch 69/100\n",
      "8606/8606 [==============================] - 4s - loss: 1.0146 - acc: 0.6133     \n",
      "Epoch 70/100\n",
      "8606/8606 [==============================] - 4s - loss: 1.0595 - acc: 0.6083     \n",
      "Epoch 71/100\n",
      "8606/8606 [==============================] - 4s - loss: 1.0188 - acc: 0.6143     \n",
      "Epoch 72/100\n",
      "8606/8606 [==============================] - 4s - loss: 1.0259 - acc: 0.6128     \n",
      "Epoch 73/100\n",
      "8606/8606 [==============================] - 4s - loss: 1.0269 - acc: 0.6185     \n",
      "Epoch 74/100\n",
      "8606/8606 [==============================] - 4s - loss: 1.0394 - acc: 0.6128     \n",
      "Epoch 75/100\n",
      "8606/8606 [==============================] - 4s - loss: 1.0234 - acc: 0.6134     \n",
      "Epoch 76/100\n",
      "8606/8606 [==============================] - 4s - loss: 1.0209 - acc: 0.6170     \n",
      "Epoch 77/100\n",
      "8606/8606 [==============================] - 4s - loss: 1.0218 - acc: 0.6203     \n",
      "Epoch 78/100\n",
      "8606/8606 [==============================] - 4s - loss: 1.0229 - acc: 0.6124     \n",
      "Epoch 79/100\n",
      "8606/8606 [==============================] - 4s - loss: 1.0498 - acc: 0.6149     \n",
      "Epoch 80/100\n",
      "8606/8606 [==============================] - 4s - loss: 1.0580 - acc: 0.6088     \n",
      "Epoch 81/100\n",
      "8606/8606 [==============================] - 4s - loss: 1.0286 - acc: 0.6096     \n",
      "Epoch 82/100\n",
      "8606/8606 [==============================] - 4s - loss: 1.0203 - acc: 0.6198     - ETA: 1s - los\n",
      "Epoch 83/100\n",
      "8606/8606 [==============================] - 4s - loss: 1.0069 - acc: 0.6232     \n",
      "Epoch 84/100\n",
      "8606/8606 [==============================] - 4s - loss: 1.0121 - acc: 0.6203     \n",
      "Epoch 85/100\n",
      "8606/8606 [==============================] - 4s - loss: 1.0260 - acc: 0.6174     - \n",
      "Epoch 86/100\n"
     ]
    },
    {
     "name": "stdout",
     "output_type": "stream",
     "text": [
      "8606/8606 [==============================] - 4s - loss: 1.0354 - acc: 0.6070     \n",
      "Epoch 87/100\n",
      "8606/8606 [==============================] - 4s - loss: 1.0036 - acc: 0.6198     \n",
      "Epoch 88/100\n",
      "8606/8606 [==============================] - 4s - loss: 0.9998 - acc: 0.6132     \n",
      "Epoch 89/100\n",
      "8606/8606 [==============================] - 4s - loss: 1.0000 - acc: 0.6186     \n",
      "Epoch 90/100\n",
      "8606/8606 [==============================] - 4s - loss: 1.0340 - acc: 0.6122     \n",
      "Epoch 91/100\n",
      "8606/8606 [==============================] - 4s - loss: 1.0176 - acc: 0.6239     \n",
      "Epoch 92/100\n",
      "8606/8606 [==============================] - 4s - loss: 1.0189 - acc: 0.6199     \n",
      "Epoch 93/100\n",
      "8606/8606 [==============================] - 4s - loss: 1.0231 - acc: 0.6150     \n",
      "Epoch 94/100\n",
      "8606/8606 [==============================] - 4s - loss: 1.0109 - acc: 0.6131     \n",
      "Epoch 95/100\n",
      "8606/8606 [==============================] - 4s - loss: 1.0168 - acc: 0.6207     \n",
      "Epoch 96/100\n",
      "8606/8606 [==============================] - 4s - loss: 1.0182 - acc: 0.6157     \n",
      "Epoch 97/100\n",
      "8606/8606 [==============================] - 4s - loss: 1.0178 - acc: 0.6142     \n",
      "Epoch 98/100\n",
      "8606/8606 [==============================] - 4s - loss: 0.9933 - acc: 0.6240     \n",
      "Epoch 99/100\n",
      "8606/8606 [==============================] - 4s - loss: 0.9997 - acc: 0.6213     \n",
      "Epoch 100/100\n",
      "8606/8606 [==============================] - 4s - loss: 1.0011 - acc: 0.6268     \n"
     ]
    },
    {
     "data": {
      "text/plain": [
       "<keras.callbacks.History at 0x7f7101163a20>"
      ]
     },
     "execution_count": 287,
     "metadata": {},
     "output_type": "execute_result"
    }
   ],
   "source": [
    "model.fit(X_train, y_train,\n",
    "          epochs=100,\n",
    "          batch_size=32)"
   ]
  },
  {
   "cell_type": "code",
   "execution_count": 288,
   "metadata": {},
   "outputs": [
    {
     "name": "stdout",
     "output_type": "stream",
     "text": [
      "2152/2152 [==============================] - 1s     \n",
      "Accuracy: 63.8%\n"
     ]
    }
   ],
   "source": [
    "score = model.evaluate(X_test, y_test, batch_size=128)\n",
    "print(\"Accuracy: {}%\".format(round((score[1]*100),2)))"
   ]
  },
  {
   "cell_type": "code",
   "execution_count": null,
   "metadata": {
    "collapsed": true
   },
   "outputs": [],
   "source": []
  },
  {
   "cell_type": "code",
   "execution_count": 151,
   "metadata": {
    "collapsed": true
   },
   "outputs": [],
   "source": [
    "#TODO: use average instead of sum. (But what if length is correlate with ans)\n",
    "y_pred = np.argmax(model.predict(X_test),axis=1)\n",
    "y_test_label = np.argmax(y_test,axis=1)"
   ]
  },
  {
   "cell_type": "code",
   "execution_count": 152,
   "metadata": {},
   "outputs": [
    {
     "data": {
      "text/plain": [
       "0.69052044609665431"
      ]
     },
     "execution_count": 152,
     "metadata": {},
     "output_type": "execute_result"
    }
   ],
   "source": [
    "from sklearn.metrics import accuracy_score\n",
    "accuracy_score(y_pred,y_test_label)"
   ]
  },
  {
   "cell_type": "code",
   "execution_count": 150,
   "metadata": {},
   "outputs": [
    {
     "data": {
      "text/plain": [
       "0"
      ]
     },
     "execution_count": 150,
     "metadata": {},
     "output_type": "execute_result"
    }
   ],
   "source": [
    "y_pred\n",
    "y_test_label"
   ]
  },
  {
   "cell_type": "code",
   "execution_count": 242,
   "metadata": {},
   "outputs": [
    {
     "ename": "FileNotFoundError",
     "evalue": "File b'../dataset/facebook_comment_annotated_2017.tsv' does not exist",
     "output_type": "error",
     "traceback": [
      "\u001b[0;31m---------------------------------------------------------------------------\u001b[0m",
      "\u001b[0;31mFileNotFoundError\u001b[0m                         Traceback (most recent call last)",
      "\u001b[0;32m<ipython-input-242-a1d5dc253841>\u001b[0m in \u001b[0;36m<module>\u001b[0;34m()\u001b[0m\n\u001b[1;32m      1\u001b[0m \u001b[0;32mimport\u001b[0m \u001b[0mdata\u001b[0m\u001b[0;34m\u001b[0m\u001b[0m\n\u001b[0;32m----> 2\u001b[0;31m \u001b[0mdata\u001b[0m\u001b[0;34m.\u001b[0m\u001b[0mupdate_data\u001b[0m\u001b[0;34m(\u001b[0m\u001b[0;34m)\u001b[0m\u001b[0;34m\u001b[0m\u001b[0m\n\u001b[0m",
      "\u001b[0;32m~/projects/sentimentModel/notebook/data.py\u001b[0m in \u001b[0;36mupdate_data\u001b[0;34m()\u001b[0m\n\u001b[1;32m     24\u001b[0m \u001b[0;32mdef\u001b[0m \u001b[0mupdate_data\u001b[0m\u001b[0;34m(\u001b[0m\u001b[0;34m)\u001b[0m\u001b[0;34m:\u001b[0m\u001b[0;34m\u001b[0m\u001b[0m\n\u001b[1;32m     25\u001b[0m     \u001b[0mdfToken\u001b[0m \u001b[0;34m=\u001b[0m \u001b[0mpd\u001b[0m\u001b[0;34m.\u001b[0m\u001b[0mread_csv\u001b[0m\u001b[0;34m(\u001b[0m\u001b[0;34m\"../dataset/tokenized_comment_all_2.tsv\"\u001b[0m\u001b[0;34m,\u001b[0m \u001b[0merror_bad_lines\u001b[0m\u001b[0;34m=\u001b[0m\u001b[0;32mFalse\u001b[0m\u001b[0;34m,\u001b[0m\u001b[0mencoding\u001b[0m\u001b[0;34m=\u001b[0m\u001b[0;34m'utf-8'\u001b[0m\u001b[0;34m,\u001b[0m\u001b[0msep\u001b[0m\u001b[0;34m=\u001b[0m\u001b[0;34m'\\t'\u001b[0m\u001b[0;34m)\u001b[0m\u001b[0;34m\u001b[0m\u001b[0m\n\u001b[0;32m---> 26\u001b[0;31m     \u001b[0mdfScore\u001b[0m \u001b[0;34m=\u001b[0m \u001b[0mpd\u001b[0m\u001b[0;34m.\u001b[0m\u001b[0mread_csv\u001b[0m\u001b[0;34m(\u001b[0m\u001b[0;34m\"../dataset/facebook_comment_annotated_2017.tsv\"\u001b[0m\u001b[0;34m,\u001b[0m \u001b[0merror_bad_lines\u001b[0m\u001b[0;34m=\u001b[0m\u001b[0;32mFalse\u001b[0m\u001b[0;34m,\u001b[0m\u001b[0mencoding\u001b[0m\u001b[0;34m=\u001b[0m\u001b[0;34m'utf-8'\u001b[0m\u001b[0;34m,\u001b[0m\u001b[0msep\u001b[0m\u001b[0;34m=\u001b[0m\u001b[0;34m'\\t'\u001b[0m\u001b[0;34m)\u001b[0m\u001b[0;34m\u001b[0m\u001b[0m\n\u001b[0m\u001b[1;32m     27\u001b[0m     \u001b[0mdfScore\u001b[0m \u001b[0;34m=\u001b[0m \u001b[0mdfScore\u001b[0m\u001b[0;34m[\u001b[0m\u001b[0mpd\u001b[0m\u001b[0;34m.\u001b[0m\u001b[0mnotnull\u001b[0m\u001b[0;34m(\u001b[0m\u001b[0mdfScore\u001b[0m\u001b[0;34m[\u001b[0m\u001b[0;34m'message'\u001b[0m\u001b[0;34m]\u001b[0m\u001b[0;34m)\u001b[0m\u001b[0;34m]\u001b[0m\u001b[0;34m\u001b[0m\u001b[0m\n\u001b[1;32m     28\u001b[0m     \u001b[0mdfScore\u001b[0m\u001b[0;34m.\u001b[0m\u001b[0mreset_index\u001b[0m\u001b[0;34m(\u001b[0m\u001b[0minplace\u001b[0m\u001b[0;34m=\u001b[0m\u001b[0;32mTrue\u001b[0m\u001b[0;34m)\u001b[0m\u001b[0;34m\u001b[0m\u001b[0m\n",
      "\u001b[0;32m~/miniconda3/envs/tf/lib/python3.5/site-packages/pandas/io/parsers.py\u001b[0m in \u001b[0;36mparser_f\u001b[0;34m(filepath_or_buffer, sep, delimiter, header, names, index_col, usecols, squeeze, prefix, mangle_dupe_cols, dtype, engine, converters, true_values, false_values, skipinitialspace, skiprows, nrows, na_values, keep_default_na, na_filter, verbose, skip_blank_lines, parse_dates, infer_datetime_format, keep_date_col, date_parser, dayfirst, iterator, chunksize, compression, thousands, decimal, lineterminator, quotechar, quoting, escapechar, comment, encoding, dialect, tupleize_cols, error_bad_lines, warn_bad_lines, skipfooter, skip_footer, doublequote, delim_whitespace, as_recarray, compact_ints, use_unsigned, low_memory, buffer_lines, memory_map, float_precision)\u001b[0m\n\u001b[1;32m    653\u001b[0m                     skip_blank_lines=skip_blank_lines)\n\u001b[1;32m    654\u001b[0m \u001b[0;34m\u001b[0m\u001b[0m\n\u001b[0;32m--> 655\u001b[0;31m         \u001b[0;32mreturn\u001b[0m \u001b[0m_read\u001b[0m\u001b[0;34m(\u001b[0m\u001b[0mfilepath_or_buffer\u001b[0m\u001b[0;34m,\u001b[0m \u001b[0mkwds\u001b[0m\u001b[0;34m)\u001b[0m\u001b[0;34m\u001b[0m\u001b[0m\n\u001b[0m\u001b[1;32m    656\u001b[0m \u001b[0;34m\u001b[0m\u001b[0m\n\u001b[1;32m    657\u001b[0m     \u001b[0mparser_f\u001b[0m\u001b[0;34m.\u001b[0m\u001b[0m__name__\u001b[0m \u001b[0;34m=\u001b[0m \u001b[0mname\u001b[0m\u001b[0;34m\u001b[0m\u001b[0m\n",
      "\u001b[0;32m~/miniconda3/envs/tf/lib/python3.5/site-packages/pandas/io/parsers.py\u001b[0m in \u001b[0;36m_read\u001b[0;34m(filepath_or_buffer, kwds)\u001b[0m\n\u001b[1;32m    403\u001b[0m \u001b[0;34m\u001b[0m\u001b[0m\n\u001b[1;32m    404\u001b[0m     \u001b[0;31m# Create the parser.\u001b[0m\u001b[0;34m\u001b[0m\u001b[0;34m\u001b[0m\u001b[0m\n\u001b[0;32m--> 405\u001b[0;31m     \u001b[0mparser\u001b[0m \u001b[0;34m=\u001b[0m \u001b[0mTextFileReader\u001b[0m\u001b[0;34m(\u001b[0m\u001b[0mfilepath_or_buffer\u001b[0m\u001b[0;34m,\u001b[0m \u001b[0;34m**\u001b[0m\u001b[0mkwds\u001b[0m\u001b[0;34m)\u001b[0m\u001b[0;34m\u001b[0m\u001b[0m\n\u001b[0m\u001b[1;32m    406\u001b[0m \u001b[0;34m\u001b[0m\u001b[0m\n\u001b[1;32m    407\u001b[0m     \u001b[0;32mif\u001b[0m \u001b[0mchunksize\u001b[0m \u001b[0;32mor\u001b[0m \u001b[0miterator\u001b[0m\u001b[0;34m:\u001b[0m\u001b[0;34m\u001b[0m\u001b[0m\n",
      "\u001b[0;32m~/miniconda3/envs/tf/lib/python3.5/site-packages/pandas/io/parsers.py\u001b[0m in \u001b[0;36m__init__\u001b[0;34m(self, f, engine, **kwds)\u001b[0m\n\u001b[1;32m    762\u001b[0m             \u001b[0mself\u001b[0m\u001b[0;34m.\u001b[0m\u001b[0moptions\u001b[0m\u001b[0;34m[\u001b[0m\u001b[0;34m'has_index_names'\u001b[0m\u001b[0;34m]\u001b[0m \u001b[0;34m=\u001b[0m \u001b[0mkwds\u001b[0m\u001b[0;34m[\u001b[0m\u001b[0;34m'has_index_names'\u001b[0m\u001b[0;34m]\u001b[0m\u001b[0;34m\u001b[0m\u001b[0m\n\u001b[1;32m    763\u001b[0m \u001b[0;34m\u001b[0m\u001b[0m\n\u001b[0;32m--> 764\u001b[0;31m         \u001b[0mself\u001b[0m\u001b[0;34m.\u001b[0m\u001b[0m_make_engine\u001b[0m\u001b[0;34m(\u001b[0m\u001b[0mself\u001b[0m\u001b[0;34m.\u001b[0m\u001b[0mengine\u001b[0m\u001b[0;34m)\u001b[0m\u001b[0;34m\u001b[0m\u001b[0m\n\u001b[0m\u001b[1;32m    765\u001b[0m \u001b[0;34m\u001b[0m\u001b[0m\n\u001b[1;32m    766\u001b[0m     \u001b[0;32mdef\u001b[0m \u001b[0mclose\u001b[0m\u001b[0;34m(\u001b[0m\u001b[0mself\u001b[0m\u001b[0;34m)\u001b[0m\u001b[0;34m:\u001b[0m\u001b[0;34m\u001b[0m\u001b[0m\n",
      "\u001b[0;32m~/miniconda3/envs/tf/lib/python3.5/site-packages/pandas/io/parsers.py\u001b[0m in \u001b[0;36m_make_engine\u001b[0;34m(self, engine)\u001b[0m\n\u001b[1;32m    983\u001b[0m     \u001b[0;32mdef\u001b[0m \u001b[0m_make_engine\u001b[0m\u001b[0;34m(\u001b[0m\u001b[0mself\u001b[0m\u001b[0;34m,\u001b[0m \u001b[0mengine\u001b[0m\u001b[0;34m=\u001b[0m\u001b[0;34m'c'\u001b[0m\u001b[0;34m)\u001b[0m\u001b[0;34m:\u001b[0m\u001b[0;34m\u001b[0m\u001b[0m\n\u001b[1;32m    984\u001b[0m         \u001b[0;32mif\u001b[0m \u001b[0mengine\u001b[0m \u001b[0;34m==\u001b[0m \u001b[0;34m'c'\u001b[0m\u001b[0;34m:\u001b[0m\u001b[0;34m\u001b[0m\u001b[0m\n\u001b[0;32m--> 985\u001b[0;31m             \u001b[0mself\u001b[0m\u001b[0;34m.\u001b[0m\u001b[0m_engine\u001b[0m \u001b[0;34m=\u001b[0m \u001b[0mCParserWrapper\u001b[0m\u001b[0;34m(\u001b[0m\u001b[0mself\u001b[0m\u001b[0;34m.\u001b[0m\u001b[0mf\u001b[0m\u001b[0;34m,\u001b[0m \u001b[0;34m**\u001b[0m\u001b[0mself\u001b[0m\u001b[0;34m.\u001b[0m\u001b[0moptions\u001b[0m\u001b[0;34m)\u001b[0m\u001b[0;34m\u001b[0m\u001b[0m\n\u001b[0m\u001b[1;32m    986\u001b[0m         \u001b[0;32melse\u001b[0m\u001b[0;34m:\u001b[0m\u001b[0;34m\u001b[0m\u001b[0m\n\u001b[1;32m    987\u001b[0m             \u001b[0;32mif\u001b[0m \u001b[0mengine\u001b[0m \u001b[0;34m==\u001b[0m \u001b[0;34m'python'\u001b[0m\u001b[0;34m:\u001b[0m\u001b[0;34m\u001b[0m\u001b[0m\n",
      "\u001b[0;32m~/miniconda3/envs/tf/lib/python3.5/site-packages/pandas/io/parsers.py\u001b[0m in \u001b[0;36m__init__\u001b[0;34m(self, src, **kwds)\u001b[0m\n\u001b[1;32m   1603\u001b[0m         \u001b[0mkwds\u001b[0m\u001b[0;34m[\u001b[0m\u001b[0;34m'allow_leading_cols'\u001b[0m\u001b[0;34m]\u001b[0m \u001b[0;34m=\u001b[0m \u001b[0mself\u001b[0m\u001b[0;34m.\u001b[0m\u001b[0mindex_col\u001b[0m \u001b[0;32mis\u001b[0m \u001b[0;32mnot\u001b[0m \u001b[0;32mFalse\u001b[0m\u001b[0;34m\u001b[0m\u001b[0m\n\u001b[1;32m   1604\u001b[0m \u001b[0;34m\u001b[0m\u001b[0m\n\u001b[0;32m-> 1605\u001b[0;31m         \u001b[0mself\u001b[0m\u001b[0;34m.\u001b[0m\u001b[0m_reader\u001b[0m \u001b[0;34m=\u001b[0m \u001b[0mparsers\u001b[0m\u001b[0;34m.\u001b[0m\u001b[0mTextReader\u001b[0m\u001b[0;34m(\u001b[0m\u001b[0msrc\u001b[0m\u001b[0;34m,\u001b[0m \u001b[0;34m**\u001b[0m\u001b[0mkwds\u001b[0m\u001b[0;34m)\u001b[0m\u001b[0;34m\u001b[0m\u001b[0m\n\u001b[0m\u001b[1;32m   1606\u001b[0m \u001b[0;34m\u001b[0m\u001b[0m\n\u001b[1;32m   1607\u001b[0m         \u001b[0;31m# XXX\u001b[0m\u001b[0;34m\u001b[0m\u001b[0;34m\u001b[0m\u001b[0m\n",
      "\u001b[0;32mpandas/_libs/parsers.pyx\u001b[0m in \u001b[0;36mpandas._libs.parsers.TextReader.__cinit__ (pandas/_libs/parsers.c:4209)\u001b[0;34m()\u001b[0m\n",
      "\u001b[0;32mpandas/_libs/parsers.pyx\u001b[0m in \u001b[0;36mpandas._libs.parsers.TextReader._setup_parser_source (pandas/_libs/parsers.c:8873)\u001b[0;34m()\u001b[0m\n",
      "\u001b[0;31mFileNotFoundError\u001b[0m: File b'../dataset/facebook_comment_annotated_2017.tsv' does not exist"
     ]
    }
   ],
   "source": []
  }
 ],
 "metadata": {
  "kernelspec": {
   "display_name": "Python 3",
   "language": "python",
   "name": "python3"
  },
  "language_info": {
   "codemirror_mode": {
    "name": "ipython",
    "version": 3
   },
   "file_extension": ".py",
   "mimetype": "text/x-python",
   "name": "python",
   "nbconvert_exporter": "python",
   "pygments_lexer": "ipython3",
   "version": "3.5.3"
  }
 },
 "nbformat": 4,
 "nbformat_minor": 2
}
